{
  "metadata": {
    "language_info": {
      "codemirror_mode": {
        "name": "python",
        "version": 3
      },
      "file_extension": ".py",
      "mimetype": "text/x-python",
      "name": "python",
      "nbconvert_exporter": "python",
      "pygments_lexer": "ipython3",
      "version": "3.8"
    },
    "kernelspec": {
      "name": "python",
      "display_name": "Python (Pyodide)",
      "language": "python"
    }
  },
  "nbformat_minor": 4,
  "nbformat": 4,
  "cells": [
    {
      "cell_type": "markdown",
      "source": "# Day 1",
      "metadata": {}
    },
    {
      "cell_type": "markdown",
      "source": "## Part 1",
      "metadata": {}
    },
    {
      "cell_type": "code",
      "source": "f = open(\"input.txt\", \"r\")\narray = []\narray.append([])\ncount = 0\nfor x in f:\n    if len(x) > 1:\n        array[count].append(x)\n    else: \n        array.append([])\n        count += 1\nf.close()\nsum_calories = []\nfor x in array:\n    sum_calories.append(0)\n    for y in x:\n        sum_calories[len(sum_calories)-1] += int(y)\nprint(max(sum_calories))",
      "metadata": {
        "trusted": true
      },
      "execution_count": 4,
      "outputs": [
        {
          "name": "stdout",
          "text": "70613\n",
          "output_type": "stream"
        }
      ]
    },
    {
      "cell_type": "markdown",
      "source": "## Part 2",
      "metadata": {}
    },
    {
      "cell_type": "code",
      "source": "total_three = 0\nfor i in range(3):\n    total_three += max(sum_calories)\n    sum_calories.remove(max(sum_calories))\n\nprint(total_three)",
      "metadata": {
        "trusted": true
      },
      "execution_count": 5,
      "outputs": [
        {
          "name": "stdout",
          "text": "205805\n",
          "output_type": "stream"
        }
      ]
    },
    {
      "cell_type": "markdown",
      "source": "# Day 2",
      "metadata": {}
    },
    {
      "cell_type": "markdown",
      "source": "## Part 1",
      "metadata": {}
    },
    {
      "cell_type": "code",
      "source": "f = open(\"input2.txt\", \"r\")\narray = []\nfor x in f:\n    array.append(x[:-1])\nf.close()\nwins = [\"A Y\", \"B Z\", \"C X\"]\ndraw = [\"A X\", \"B Y\", \"C Z\"]\ndict_points = {\"X\":1,\"Y\":2,\"Z\":3}\ntotal_points = 0\nfor x in array:\n    if x in wins:\n        total_points += 6\n    elif x in draw:\n        total_points += 3\n    total_points += dict_points[x[-1]]\nprint(total_points)",
      "metadata": {
        "trusted": true
      },
      "execution_count": 6,
      "outputs": [
        {
          "name": "stdout",
          "text": "12794\n",
          "output_type": "stream"
        }
      ]
    },
    {
      "cell_type": "markdown",
      "source": "## Part 2",
      "metadata": {}
    },
    {
      "cell_type": "code",
      "source": "dict_points = {\"Rock\":1,\"Paper\":2,\"Scissors\":3}\nwins = {\"A\": \"Paper\", \"B\": \"Scissors\", \"C\": \"Rock\"}\ndraw = {\"A\": \"Rock\", \"B\": \"Paper\", \"C\": \"Scissors\"}\nloses = {\"A\": \"Scissors\", \"B\": \"Rock\", \"C\": \"Paper\"}\ntotal_points = 0\nfor x in array:\n    if x[-1] == \"X\":\n        total_points += dict_points[loses[x[0]]]\n    elif x[-1] == \"Y\":\n        total_points += dict_points[draw[x[0]]] + 3\n    elif x[-1] == \"Z\":\n        total_points += dict_points[wins[x[0]]] + 6\nprint(total_points)",
      "metadata": {
        "trusted": true
      },
      "execution_count": 7,
      "outputs": [
        {
          "name": "stdout",
          "text": "14979\n",
          "output_type": "stream"
        }
      ]
    },
    {
      "cell_type": "markdown",
      "source": "# Day 3",
      "metadata": {}
    },
    {
      "cell_type": "markdown",
      "source": "## Part 1",
      "metadata": {}
    },
    {
      "cell_type": "code",
      "source": "f = open(\"input3.txt\", \"r\")\narray = []\nfor x in f:\n    array.append(x[:-1])\nf.close()\ntotal_points = 0\nfor x in array:\n    str1 = x[:len(x)//2]\n    str2 = x[len(x)//2:]\n    common_characters = ''.join(set(str1).intersection(str2))\n    if common_characters.isupper():\n        total_points += ord(common_characters) - 38\n    else:\n        total_points += ord(common_characters) - 96\nprint(total_points)",
      "metadata": {
        "trusted": true
      },
      "execution_count": 8,
      "outputs": [
        {
          "name": "stdout",
          "text": "8202\n",
          "output_type": "stream"
        }
      ]
    },
    {
      "cell_type": "markdown",
      "source": "## Part 2",
      "metadata": {}
    },
    {
      "cell_type": "code",
      "source": "total_points = 0\nfor x in range(0,len(array),3):\n    common_characters = ''.join(set(array[x]).intersection(array[x+1]).intersection(array[x+2]))\n    if common_characters.isupper():\n        total_points += ord(common_characters) - 38\n    else:\n        total_points += ord(common_characters) - 96\nprint(total_points)",
      "metadata": {
        "trusted": true
      },
      "execution_count": 9,
      "outputs": [
        {
          "name": "stdout",
          "text": "2864\n",
          "output_type": "stream"
        }
      ]
    },
    {
      "cell_type": "markdown",
      "source": "# Day 4",
      "metadata": {}
    },
    {
      "cell_type": "markdown",
      "source": "## Part 1",
      "metadata": {}
    },
    {
      "cell_type": "code",
      "source": "f = open(\"input4.txt\", \"r\")\narray = []\nfor x in f:\n    array.append(x[:-1])\nf.close()\ntotal_points = 0\nfor x in array:\n    pairs = x.split(\",\")\n    pair_assignement1 = pairs[0].split(\"-\")\n    pair_assignement2 = pairs[1].split(\"-\")\n    if int(pair_assignement1[0]) <= int(pair_assignement2[0]) and int(pair_assignement1[1]) >= int(pair_assignement2[1]):\n        total_points += 1\n    elif int(pair_assignement2[0]) <= int(pair_assignement1[0]) and int(pair_assignement2[1]) >= int(pair_assignement1[1]):\n        total_points += 1\nprint(total_points)",
      "metadata": {
        "trusted": true
      },
      "execution_count": 21,
      "outputs": [
        {
          "name": "stdout",
          "text": "500\n",
          "output_type": "stream"
        }
      ]
    },
    {
      "cell_type": "markdown",
      "source": "## Part 2",
      "metadata": {}
    },
    {
      "cell_type": "code",
      "source": "total_points = 0\nfor x in array:\n    pairs = x.split(\",\")\n    pair_assignement1 = pairs[0].split(\"-\")\n    pair_assignement2 = pairs[1].split(\"-\")\n    if int(pair_assignement1[1]) < int(pair_assignement2[0]) or int(pair_assignement2[1]) < int(pair_assignement1[0]):\n        continue\n    total_points += 1\nprint(total_points)",
      "metadata": {
        "trusted": true
      },
      "execution_count": 26,
      "outputs": [
        {
          "name": "stdout",
          "text": "815\n",
          "output_type": "stream"
        }
      ]
    },
    {
      "cell_type": "code",
      "source": "",
      "metadata": {},
      "execution_count": null,
      "outputs": []
    }
  ]
}